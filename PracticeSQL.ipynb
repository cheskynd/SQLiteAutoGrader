{
 "cells": [
  {
   "cell_type": "markdown",
   "metadata": {},
   "source": [
    "# Use this File to practice your Queries"
   ]
  },
  {
   "cell_type": "code",
   "execution_count": 1,
   "metadata": {},
   "outputs": [],
   "source": [
    "%load_ext sql"
   ]
  },
  {
   "cell_type": "code",
   "execution_count": 2,
   "metadata": {},
   "outputs": [],
   "source": [
    "%reload_ext sql \n",
    "%sql sqlite:///worker_project.db"
   ]
  },
  {
   "cell_type": "code",
   "execution_count": 3,
   "metadata": {},
   "outputs": [
    {
     "name": "stdout",
     "output_type": "stream",
     "text": [
      " * sqlite:///worker_project.db\n",
      "Done.\n"
     ]
    },
    {
     "data": {
      "text/html": [
       "<table>\n",
       "    <tr>\n",
       "        <th>empId</th>\n",
       "        <th>lastName</th>\n",
       "        <th>firstName</th>\n",
       "        <th>deptName</th>\n",
       "        <th>birthDate</th>\n",
       "        <th>hireDate</th>\n",
       "        <th>salary</th>\n",
       "    </tr>\n",
       "    <tr>\n",
       "        <td>101</td>\n",
       "        <td>Smith</td>\n",
       "        <td>Tom</td>\n",
       "        <td>Accounting</td>\n",
       "        <td>01-Feb-1970</td>\n",
       "        <td>06-Jun-1993 </td>\n",
       "        <td>50000</td>\n",
       "    </tr>\n",
       "    <tr>\n",
       "        <td>103</td>\n",
       "        <td>Jones</td>\n",
       "        <td>Mary</td>\n",
       "        <td>Accounting</td>\n",
       "        <td>15-Jun-1975</td>\n",
       "        <td>20-Sep-2005</td>\n",
       "        <td>48000</td>\n",
       "    </tr>\n",
       "    <tr>\n",
       "        <td>105</td>\n",
       "        <td>Burns</td>\n",
       "        <td>Jane</td>\n",
       "        <td>Accounting</td>\n",
       "        <td>21-Sep-1980</td>\n",
       "        <td>12-Jun-2015</td>\n",
       "        <td>39000</td>\n",
       "    </tr>\n",
       "    <tr>\n",
       "        <td>110</td>\n",
       "        <td>Burns</td>\n",
       "        <td>Michael</td>\n",
       "        <td>Research</td>\n",
       "        <td>05-Apr-1977</td>\n",
       "        <td>10-Sep-2020</td>\n",
       "        <td>70000</td>\n",
       "    </tr>\n",
       "    <tr>\n",
       "        <td>115</td>\n",
       "        <td>Chin</td>\n",
       "        <td>Amanda</td>\n",
       "        <td>Research</td>\n",
       "        <td>22-Sep-1980</td>\n",
       "        <td>19-Jun-2022</td>\n",
       "        <td>60000</td>\n",
       "    </tr>\n",
       "</table>"
      ],
      "text/plain": [
       "[(101, 'Smith', 'Tom', 'Accounting', '01-Feb-1970', '06-Jun-1993 ', 50000),\n",
       " (103, 'Jones', 'Mary', 'Accounting', '15-Jun-1975', '20-Sep-2005', 48000),\n",
       " (105, 'Burns', 'Jane', 'Accounting', '21-Sep-1980', '12-Jun-2015', 39000),\n",
       " (110, 'Burns', 'Michael', 'Research', '05-Apr-1977', '10-Sep-2020', 70000),\n",
       " (115, 'Chin', 'Amanda', 'Research', '22-Sep-1980', '19-Jun-2022', 60000)]"
      ]
     },
     "execution_count": 3,
     "metadata": {},
     "output_type": "execute_result"
    }
   ],
   "source": [
    "%%sql\n",
    "SELECT * FROM worker"
   ]
  }
 ],
 "metadata": {
  "kernelspec": {
   "display_name": "Python 3 (ipykernel)",
   "language": "python",
   "name": "python3"
  },
  "language_info": {
   "codemirror_mode": {
    "name": "ipython",
    "version": 3
   },
   "file_extension": ".py",
   "mimetype": "text/x-python",
   "name": "python",
   "nbconvert_exporter": "python",
   "pygments_lexer": "ipython3",
   "version": "3.9.13"
  }
 },
 "nbformat": 4,
 "nbformat_minor": 2
}
